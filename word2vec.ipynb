{
 "cells": [
  {
   "cell_type": "code",
   "execution_count": 1,
   "metadata": {
    "collapsed": true
   },
   "outputs": [
    {
     "name": "stdout",
     "output_type": "stream",
     "text": [
      "5000번째 줄 진행 중.\n",
      "10000번째 줄 진행 중.\n",
      "15000번째 줄 진행 중.\n",
      "20000번째 줄 진행 중.\n",
      "25000번째 줄 진행 중.\n",
      "30000번째 줄 진행 중.\n",
      "35000번째 줄 진행 중.\n"
     ]
    }
   ],
   "source": [
    "from konlpy.tag import Okt\n",
    "from gensim.models.word2vec import Word2Vec\n",
    "okt = Okt()\n",
    "f = open(r'C:\\dataset.txt', encoding = \"utf8\")\n",
    "i = 0\n",
    "result = []\n",
    "\n",
    "while True:\n",
    "    line = f.readline()\n",
    "    if not line: break\n",
    "    i = i+1\n",
    "    if i % 5000 == 0:\n",
    "        print(\"%d번째 줄 진행 중.\"%i)\n",
    "    tokenlist = okt.pos(line, stem = True, norm = True)\n",
    "    temp = []\n",
    "    for word in tokenlist:\n",
    "        if word[1] in [\"Noun\", \"Verb\"]:\n",
    "            temp.append((word[0]))\n",
    "    if temp:\n",
    "        result.append(temp)\n",
    "f.close()"
   ]
  },
  {
   "cell_type": "code",
   "execution_count": 2,
   "metadata": {
    "collapsed": true
   },
   "outputs": [
    {
     "name": "stdout",
     "output_type": "stream",
     "text": [
      "추출된 데이터: 38206\n"
     ]
    }
   ],
   "source": [
    "print('추출된 데이터: {}'.format(len(result)))"
   ]
  },
  {
   "cell_type": "code",
   "execution_count": 3,
   "metadata": {},
   "outputs": [],
   "source": [
    "model = Word2Vec(result, size = 100, window=5, min_count=2, workers=4, sg=0, iter = 200)"
   ]
  },
  {
   "cell_type": "code",
   "execution_count": 4,
   "metadata": {
    "scrolled": false
   },
   "outputs": [
    {
     "name": "stdout",
     "output_type": "stream",
     "text": [
      "[('우리나라', 0.48813000321388245), ('중국', 0.4410446882247925), ('이라크', 0.41129225492477417), ('미국', 0.37089475989341736), ('디자인', 0.34107527136802673), ('꼴', 0.3369956314563751), ('한국인', 0.32804468274116516), ('대한민국', 0.3227938711643219), ('북괴', 0.3170906603336334), ('아프리카', 0.300184428691864)]\n"
     ]
    }
   ],
   "source": [
    "model_result = model.wv.most_similar(\"한국\")\n",
    "print(model_result)"
   ]
  }
 ],
 "metadata": {
  "kernelspec": {
   "display_name": "Python 3",
   "language": "python",
   "name": "python3"
  },
  "language_info": {
   "codemirror_mode": {
    "name": "ipython",
    "version": 3
   },
   "file_extension": ".py",
   "mimetype": "text/x-python",
   "name": "python",
   "nbconvert_exporter": "python",
   "pygments_lexer": "ipython3",
   "version": "3.6.12"
  }
 },
 "nbformat": 4,
 "nbformat_minor": 4
}
