import requests
from bs4 import BeautifulSoup
url = 'https://store.line.me/stickershop/product/12140/ko'
response = requests.get(url)
source = response.text

soup = BeautifulSoup(source, 'html.parser')

imgURL = soup.find_all("li", class_="mdCMN09Li FnStickerPreviewItem")
title = soup.find("title").text
title = title.split(" –")
        
rank = 0;

for emo in imgURL:
    emo = imgURL[rank]["data-preview"].split('"')
    rank = rank + 1
    print("('", end='')
    print(emo[19], end='')
    print("' , '", end='')
    print(title[0], end='')
    print("')")

print("('", end='')
print(title[0], end='')
print("' , '", end='')
print(url, end='')
print("')")
